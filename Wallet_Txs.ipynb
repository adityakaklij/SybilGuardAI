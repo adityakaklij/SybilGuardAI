{
 "cells": [
  {
   "cell_type": "code",
   "execution_count": 1,
   "id": "49f3998b",
   "metadata": {},
   "outputs": [],
   "source": [
    "import requests\n",
    "import csv\n",
    "import time\n",
    "import pandas as pd"
   ]
  },
  {
   "cell_type": "code",
   "execution_count": 6,
   "id": "83ddf649",
   "metadata": {},
   "outputs": [],
   "source": [
    "headers = ['hash', 'block_number', 'block_hash', 'selector', 'contract_address',\n",
    "               'caller_address', 'timestamp', 'name', 'class_alias', \n",
    "               'contract_alias', 'caller_contract_alias', 'id']\n",
    "\n",
    "\n",
    "def write_to_csv2(file_name, data, headers=None):\n",
    "    try:\n",
    "        with open(file_name, mode='a', newline='') as file:\n",
    "            writer = csv.DictWriter(file, fieldnames=headers)\n",
    "            if headers and file.tell() == 0:\n",
    "                writer.writeheader()\n",
    "            for row in data:\n",
    "                if isinstance(row, dict) and row:  # Ensure row is a non-empty dictionary\n",
    "                    writer.writerow(row)\n",
    "                else:\n",
    "                    print(f\"Skipping empty or invalid item: {row}\")\n",
    "    except Exception as e:\n",
    "        print(f\"Error writing to CSV: {e}\")"
   ]
  },
  {
   "cell_type": "code",
   "execution_count": 4,
   "id": "7efcd1db",
   "metadata": {},
   "outputs": [],
   "source": [
    "# Getting the list of wallet address from the USER\n",
    "db = pd.read_csv('eigenlayerwallet.csv')\n",
    "walletAddress = db['From'][2000:2100]"
   ]
  },
  {
   "cell_type": "code",
   "execution_count": 5,
   "id": "e7438e3c",
   "metadata": {},
   "outputs": [
    {
     "data": {
      "text/plain": [
       "2000    0xe60519c2cbac5f07ac2c0e1487fe46fdb8d0893c\n",
       "2001    0x041333a0a76b365beb10d9e0a33bc5d327f48294\n",
       "2002    0xb878ebca6e116c654417c71b0ad8bdc949da4bd5\n",
       "2003    0x0bcddacc6ae6be4e5db6912230af71c495d7336a\n",
       "2004    0xe4f992bcdf6ddf907169952faee7714c3fd19b53\n",
       "                           ...                    \n",
       "2095    0x66faf515c93888af3b590bac331351320007d64c\n",
       "2096    0xc783895acfdbc2e8ed6d916e73bd62e65ea2e333\n",
       "2097    0x667f88166eed641a47980f59a267d511112ac669\n",
       "2098    0x397f8d6e9b59081ce5c0151273167478ee27336c\n",
       "2099    0xb039b63c4ad0387822a240f04ab0c14e959599fb\n",
       "Name: From, Length: 100, dtype: object"
      ]
     },
     "execution_count": 5,
     "metadata": {},
     "output_type": "execute_result"
    }
   ],
   "source": [
    "walletAddress"
   ]
  },
  {
   "cell_type": "code",
   "execution_count": null,
   "id": "c2102def",
   "metadata": {},
   "outputs": [],
   "source": [
    "headers2 = ['blockNumber', 'blockHash', 'timeStamp', 'hash', 'nonce',\n",
    "               'transactionIndex', 'from', 'to', 'value', 'gas',\n",
    "               'gasPrice', 'input', 'methodId', 'functionName',\n",
    "               'contractAddress', 'cumulativeGasUsed', 'txreceipt_status',\n",
    "               'gasUsed', 'confirmations', 'isError']\n",
    "counter = 401\n",
    "for i in walletAddress:\n",
    "    url_ = f\"https://api.etherscan.io/api?module=account&action=txlist&address={i}&startblock=0&endblock=99999999&page=1&offset=30&sort=asc&apikey=4M3DJHDFDZ8KQ26PJNVISAQBJF2XIM2KYE\"\n",
    "    res = requests.get(url_)\n",
    "    res.json()['result']\n",
    "    write_to_csv2(\"ethersccan_2000.csv\", res.json()['result'], headers2)\n",
    "    counter +=1\n",
    "    print(\"counter: \",counter)\n",
    "#     time.sleep(1)\n",
    "    print(i)"
   ]
  },
  {
   "cell_type": "code",
   "execution_count": null,
   "id": "52ab6c0d",
   "metadata": {},
   "outputs": [],
   "source": []
  },
  {
   "cell_type": "code",
   "execution_count": null,
   "id": "599b2540",
   "metadata": {},
   "outputs": [],
   "source": []
  }
 ],
 "metadata": {
  "kernelspec": {
   "display_name": "Python 3 (ipykernel)",
   "language": "python",
   "name": "python3"
  },
  "language_info": {
   "codemirror_mode": {
    "name": "ipython",
    "version": 3
   },
   "file_extension": ".py",
   "mimetype": "text/x-python",
   "name": "python",
   "nbconvert_exporter": "python",
   "pygments_lexer": "ipython3",
   "version": "3.9.7"
  }
 },
 "nbformat": 4,
 "nbformat_minor": 5
}
